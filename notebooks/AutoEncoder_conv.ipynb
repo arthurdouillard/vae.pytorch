{
 "cells": [
  {
   "cell_type": "code",
   "execution_count": 1,
   "metadata": {},
   "outputs": [
    {
     "name": "stdout",
     "output_type": "stream",
     "text": [
      "Populating the interactive namespace from numpy and matplotlib\n"
     ]
    }
   ],
   "source": [
    "%pylab inline"
   ]
  },
  {
   "cell_type": "code",
   "execution_count": 2,
   "metadata": {},
   "outputs": [],
   "source": [
    "import matplotlib.pyplot as plt\n",
    "import numpy as np\n",
    "import torch\n",
    "from torch import nn\n",
    "import torch.nn.functional as F\n",
    "from torch.autograd import Variable\n",
    "from torch import utils as tutils\n",
    "from torch import optim\n",
    "from torchvision import transforms\n",
    "from torchvision import datasets\n",
    "from torchvision import utils as vutils\n",
    "from torchvision import models"
   ]
  },
  {
   "cell_type": "code",
   "execution_count": 3,
   "metadata": {},
   "outputs": [],
   "source": [
    "transform = transforms.Compose([\n",
    "    transforms.ToTensor(),\n",
    "    transforms.Normalize((0.5, 0.5, 0.5), (0.5, 0.5, 0.5))\n",
    "])\n",
    "\n",
    "mnist_train = datasets.MNIST('mnist', train=True, download=True, transform=transform)\n",
    "trainloader = tutils.data.DataLoader(mnist_train, batch_size=256, shuffle=True)\n",
    "\n",
    "mnist_test = datasets.MNIST('mnist', train=False, download=True, transform=transform)\n",
    "testloader = tutils.data.DataLoader(mnist_test, batch_size=8, shuffle=True)\n",
    "\n",
    "classes_mnist = tuple(i for i in range(10))"
   ]
  },
  {
   "cell_type": "code",
   "execution_count": 13,
   "metadata": {},
   "outputs": [
    {
     "data": {
      "text/plain": [
       "torch.Size([1, 28, 28])"
      ]
     },
     "execution_count": 13,
     "metadata": {},
     "output_type": "execute_result"
    }
   ],
   "source": [
    "shape = mnist_train[0][0].shape\n",
    "shape"
   ]
  },
  {
   "cell_type": "code",
   "execution_count": 49,
   "metadata": {},
   "outputs": [],
   "source": [
    "class AutoEncoderConv(nn.Module):\n",
    "    def __init__(self, in_channels):\n",
    "        super(AutoEncoderConv, self).__init__()\n",
    "\n",
    "        self.encoder = nn.Sequential(\n",
    "            nn.Conv2d(in_channels, 3, 5),\n",
    "            nn.ReLU(True),\n",
    "            nn.AvgPool2d(2),\n",
    "            nn.Conv2d(3, 12, 5),\n",
    "            nn.ReLU(True),\n",
    "            nn.AvgPool2d(2)\n",
    "        )\n",
    " \n",
    "        self.decoder = nn.Sequential(\n",
    "            nn.ConvTranspose2d(12, 3, 10),\n",
    "            nn.ReLU(True),\n",
    "            nn.ConvTranspose2d(3, 1, 16),\n",
    "            nn.Tanh()\n",
    "        )\n",
    "\n",
    "        \n",
    "    def forward(self, x):\n",
    "        x = self.encoder(x)\n",
    "        return self.decoder(x)"
   ]
  },
  {
   "cell_type": "code",
   "execution_count": 50,
   "metadata": {},
   "outputs": [
    {
     "name": "stdout",
     "output_type": "stream",
     "text": [
      "AutoEncoderConv(\n",
      "  (encoder): Sequential(\n",
      "    (0): Conv2d(1, 3, kernel_size=(5, 5), stride=(1, 1))\n",
      "    (1): ReLU(inplace)\n",
      "    (2): AvgPool2d(kernel_size=2, stride=2, padding=0)\n",
      "    (3): Conv2d(3, 12, kernel_size=(5, 5), stride=(1, 1))\n",
      "    (4): ReLU(inplace)\n",
      "    (5): AvgPool2d(kernel_size=2, stride=2, padding=0)\n",
      "  )\n",
      "  (decoder): Sequential(\n",
      "    (0): ConvTranspose2d(12, 3, kernel_size=(10, 10), stride=(1, 1))\n",
      "    (1): ReLU(inplace)\n",
      "    (2): ConvTranspose2d(3, 1, kernel_size=(16, 16), stride=(1, 1))\n",
      "    (3): Tanh()\n",
      "  )\n",
      ")\n"
     ]
    }
   ],
   "source": [
    "net = AutoEncoderConv(shape[0])\n",
    "print(net)"
   ]
  },
  {
   "cell_type": "code",
   "execution_count": 51,
   "metadata": {},
   "outputs": [],
   "source": [
    "criterion = nn.MSELoss()\n",
    "optimizer = optim.Adam(net.parameters())"
   ]
  },
  {
   "cell_type": "code",
   "execution_count": 52,
   "metadata": {},
   "outputs": [
    {
     "name": "stdout",
     "output_type": "stream",
     "text": [
      "Epoch: 0, Loss: 77.36593316495419\n",
      "Epoch: 1, Loss: 50.72541117668152\n",
      "Epoch: 2, Loss: 44.66174900531769\n",
      "Epoch: 3, Loss: 40.02790829539299\n",
      "Epoch: 4, Loss: 36.276641741395\n",
      "Epoch: 5, Loss: 33.58021256327629\n",
      "Epoch: 6, Loss: 31.539304815232754\n",
      "Epoch: 7, Loss: 30.041062220931053\n",
      "Epoch: 8, Loss: 28.702061995863914\n",
      "Epoch: 9, Loss: 27.567788511514664\n"
     ]
    }
   ],
   "source": [
    "n_epochs = 10\n",
    "\n",
    "for epoch in range(n_epochs):\n",
    "    running_loss = 0.\n",
    "    \n",
    "    for images, _ in trainloader:        \n",
    "        optimizer.zero_grad()\n",
    "        \n",
    "        outputs = net(images)\n",
    "        loss = criterion(outputs, images)\n",
    "        loss.backward()\n",
    "        optimizer.step()\n",
    "        \n",
    "        running_loss += loss.data.item()\n",
    "    print('Epoch: {}, Loss: {}'.format(epoch, running_loss))"
   ]
  },
  {
   "cell_type": "code",
   "execution_count": 57,
   "metadata": {},
   "outputs": [],
   "source": [
    "def imshow(img, imagenet=False):\n",
    "    if imagenet:\n",
    "        means = [0.485, 0.456, 0.406]\n",
    "        stds = [0.229, 0.224, 0.225]\n",
    "        for i in range(3):\n",
    "            img[i] = img[i] * stds[i] + means[i]\n",
    "    else:\n",
    "        img = img / 2 + 0.5\n",
    "    \n",
    "    npimg = img.numpy()\n",
    "    npimg = np.transpose(npimg, (1, 2, 0))\n",
    "    plt.imshow(npimg)\n",
    "\n",
    "def display_batch(images, imagenet=False):\n",
    "    imshow(vutils.make_grid(images), imagenet=imagenet)"
   ]
  },
  {
   "cell_type": "code",
   "execution_count": 64,
   "metadata": {},
   "outputs": [],
   "source": [
    "images, labels = next(iter(testloader))"
   ]
  },
  {
   "cell_type": "code",
   "execution_count": 65,
   "metadata": {},
   "outputs": [
    {
     "data": {
      "image/png": "[encoded data removed]",
      "text/plain": [
       "<Figure size 432x288 with 1 Axes>"
      ]
     },
     "metadata": {},
     "output_type": "display_data"
    }
   ],
   "source": [
    "display_batch(images)"
   ]
  },
  {
   "cell_type": "code",
   "execution_count": 66,
   "metadata": {},
   "outputs": [
    {
     "data": {
      "image/png": "[encoded data removed]",
      "text/plain": [
       "<Figure size 432x288 with 1 Axes>"
      ]
     },
     "metadata": {},
     "output_type": "display_data"
    }
   ],
   "source": [
    "compressed_images = net(images)\n",
    "display_batch(compressed_images.detach())"
   ]
  },
  {
   "cell_type": "code",
   "execution_count": null,
   "metadata": {},
   "outputs": [],
   "source": []
  }
 ],
 "metadata": {
  "kernelspec": {
   "display_name": "Python 3",
   "language": "python",
   "name": "python3"
  },
  "language_info": {
   "codemirror_mode": {
    "name": "ipython",
    "version": 3
   },
   "file_extension": ".py",
   "mimetype": "text/x-python",
   "name": "python",
   "nbconvert_exporter": "python",
   "pygments_lexer": "ipython3",
   "version": "3.6.4"
  }
 },
 "nbformat": 4,
 "nbformat_minor": 2
}
