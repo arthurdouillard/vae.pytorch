{
 "cells": [
  {
   "cell_type": "code",
   "execution_count": 13,
   "metadata": {},
   "outputs": [
    {
     "name": "stdout",
     "output_type": "stream",
     "text": [
      "Populating the interactive namespace from numpy and matplotlib\n"
     ]
    },
    {
     "name": "stderr",
     "output_type": "stream",
     "text": [
      "/Users/arthur/miniconda3/lib/python3.6/site-packages/IPython/core/magics/pylab.py:160: UserWarning: pylab import has clobbered these variables: ['imshow', 'shape']\n",
      "`%matplotlib` prevents importing * from pylab and numpy\n",
      "  \"\\n`%matplotlib` prevents importing * from pylab and numpy\"\n"
     ]
    }
   ],
   "source": [
    "%pylab inline"
   ]
  },
  {
   "cell_type": "code",
   "execution_count": 14,
   "metadata": {},
   "outputs": [],
   "source": [
    "import matplotlib.pyplot as plt\n",
    "import numpy as np\n",
    "import torch\n",
    "from torch import nn\n",
    "import torch.nn.functional as F\n",
    "from torch.autograd import Variable\n",
    "from torch import utils as tutils\n",
    "from torch import optim\n",
    "from torchvision import transforms\n",
    "from torchvision import datasets\n",
    "from torchvision import utils as vutils\n",
    "from torchvision import models"
   ]
  },
  {
   "cell_type": "code",
   "execution_count": 15,
   "metadata": {},
   "outputs": [],
   "source": [
    "transform = transforms.Compose([\n",
    "    transforms.ToTensor()\n",
    "])\n",
    "\n",
    "mnist_train = datasets.MNIST('mnist', train=True, download=True, transform=transform)\n",
    "trainloader = tutils.data.DataLoader(mnist_train, batch_size=256, shuffle=True)\n",
    "\n",
    "mnist_test = datasets.MNIST('mnist', train=False, download=True, transform=transform)\n",
    "testloader = tutils.data.DataLoader(mnist_test, batch_size=8, shuffle=True)\n",
    "\n",
    "classes_mnist = tuple(i for i in range(10))"
   ]
  },
  {
   "cell_type": "code",
   "execution_count": 16,
   "metadata": {},
   "outputs": [],
   "source": [
    "shape = mnist_train[0][0].shape"
   ]
  },
  {
   "cell_type": "code",
   "execution_count": 17,
   "metadata": {},
   "outputs": [],
   "source": [
    "class AutoEncoder(nn.Module):\n",
    "    def __init__(self, dims):\n",
    "        super(AutoEncoder, self).__init__()\n",
    "\n",
    "        self.encoder = self._build_seq(dims)\n",
    "        self.decoder = self._build_seq(dims[::-1], decode=True)\n",
    " \n",
    "        \n",
    "    def _build_seq(self, dims, decode=False):\n",
    "        layers = []\n",
    "        for i in range(len(dims) - 1):\n",
    "            layers.extend([\n",
    "                nn.Linear(dims[i], dims[i + 1]),\n",
    "                nn.ReLU(True) if not decode or i != len(dims) - 2 else nn.Sigmoid()\n",
    "            ])\n",
    "        return nn.Sequential(*layers)\n",
    "        \n",
    "    def forward(self, x):\n",
    "        x = self.encoder(x)\n",
    "        return self.decoder(x)"
   ]
  },
  {
   "cell_type": "code",
   "execution_count": 18,
   "metadata": {},
   "outputs": [
    {
     "name": "stdout",
     "output_type": "stream",
     "text": [
      "AutoEncoder(\n",
      "  (encoder): Sequential(\n",
      "    (0): Linear(in_features=784, out_features=200, bias=True)\n",
      "    (1): ReLU(inplace)\n",
      "    (2): Linear(in_features=200, out_features=100, bias=True)\n",
      "    (3): ReLU(inplace)\n",
      "    (4): Linear(in_features=100, out_features=50, bias=True)\n",
      "    (5): ReLU(inplace)\n",
      "    (6): Linear(in_features=50, out_features=30, bias=True)\n",
      "    (7): ReLU(inplace)\n",
      "  )\n",
      "  (decoder): Sequential(\n",
      "    (0): Linear(in_features=30, out_features=50, bias=True)\n",
      "    (1): ReLU(inplace)\n",
      "    (2): Linear(in_features=50, out_features=100, bias=True)\n",
      "    (3): ReLU(inplace)\n",
      "    (4): Linear(in_features=100, out_features=200, bias=True)\n",
      "    (5): ReLU(inplace)\n",
      "    (6): Linear(in_features=200, out_features=784, bias=True)\n",
      "    (7): Sigmoid()\n",
      "  )\n",
      ")\n"
     ]
    }
   ],
   "source": [
    "net = AutoEncoder([shape[0] * shape[1] * shape[2], 200, 100, 50, 30])\n",
    "print(net)"
   ]
  },
  {
   "cell_type": "code",
   "execution_count": 19,
   "metadata": {},
   "outputs": [],
   "source": [
    "criterion = F.binary_cross_entropy\n",
    "optimizer = optim.Adam(net.parameters())"
   ]
  },
  {
   "cell_type": "code",
   "execution_count": 20,
   "metadata": {},
   "outputs": [
    {
     "name": "stdout",
     "output_type": "stream",
     "text": [
      "Epoch: 0, Loss: 67.98085318505764\n",
      "Epoch: 1, Loss: 50.3136422932148\n",
      "Epoch: 2, Loss: 39.53160087764263\n",
      "Epoch: 3, Loss: 35.731588661670685\n",
      "Epoch: 4, Loss: 33.788797587156296\n",
      "Epoch: 5, Loss: 32.45523265004158\n",
      "Epoch: 6, Loss: 31.6085012704134\n",
      "Epoch: 7, Loss: 31.0033962354064\n",
      "Epoch: 8, Loss: 30.534914292395115\n",
      "Epoch: 9, Loss: 30.12254137545824\n"
     ]
    }
   ],
   "source": [
    "n_epochs = 10\n",
    "\n",
    "for epoch in range(n_epochs):\n",
    "    running_loss = 0.\n",
    "    \n",
    "    for images, _ in trainloader:\n",
    "        images = images.view(images.shape[0], -1)\n",
    "        \n",
    "        optimizer.zero_grad()\n",
    "        \n",
    "        outputs = net(images)\n",
    "        loss = criterion(outputs, images)\n",
    "        loss.backward()\n",
    "        optimizer.step()\n",
    "        \n",
    "        running_loss += loss.data.item()\n",
    "    print('Epoch: {}, Loss: {}'.format(epoch, running_loss))"
   ]
  },
  {
   "cell_type": "code",
   "execution_count": 21,
   "metadata": {},
   "outputs": [],
   "source": [
    "def imshow(img):\n",
    "    npimg = img.numpy()\n",
    "    npimg = np.transpose(npimg, (1, 2, 0))\n",
    "    plt.imshow(npimg)\n",
    "\n",
    "def display_batch(images, reshape=False):\n",
    "    if reshape:\n",
    "        images = images.view(images.shape[0], 1, 28, 28)\n",
    "    imshow(vutils.make_grid(images))"
   ]
  },
  {
   "cell_type": "code",
   "execution_count": 22,
   "metadata": {},
   "outputs": [],
   "source": [
    "images, labels = next(iter(testloader))"
   ]
  },
  {
   "cell_type": "code",
   "execution_count": 23,
   "metadata": {},
   "outputs": [
    {
     "data": {
      "image/png": "[encoded data removed]",
      "text/plain": [
       "<Figure size 432x288 with 1 Axes>"
      ]
     },
     "metadata": {},
     "output_type": "display_data"
    }
   ],
   "source": [
    "display_batch(images)"
   ]
  },
  {
   "cell_type": "code",
   "execution_count": 24,
   "metadata": {},
   "outputs": [
    {
     "data": {
      "image/png": "[encoded data removed]",
      "text/plain": [
       "<Figure size 432x288 with 1 Axes>"
      ]
     },
     "metadata": {},
     "output_type": "display_data"
    }
   ],
   "source": [
    "compressed_images = net(images.view(images.shape[0], -1))\n",
    "display_batch(compressed_images.detach(), reshape=True)"
   ]
  }
 ],
 "metadata": {
  "kernelspec": {
   "display_name": "Python 3",
   "language": "python",
   "name": "python3"
  },
  "language_info": {
   "codemirror_mode": {
    "name": "ipython",
    "version": 3
   },
   "file_extension": ".py",
   "mimetype": "text/x-python",
   "name": "python",
   "nbconvert_exporter": "python",
   "pygments_lexer": "ipython3",
   "version": "3.6.4"
  }
 },
 "nbformat": 4,
 "nbformat_minor": 2
}
